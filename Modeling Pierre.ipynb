{
 "cells": [
  {
   "cell_type": "code",
   "execution_count": 11,
   "id": "2989553b-f537-45d7-9661-1eb8fb9812b8",
   "metadata": {},
   "outputs": [],
   "source": [
    "from imblearn.over_sampling import SMOTE\n",
    "import pandas as pd\n",
    "import numpy as np\n",
    "import matplotlib.pyplot as plt\n",
    "import seaborn as sns\n",
    "from sklearn.model_selection import train_test_split\n",
    "from sklearn.linear_model import LinearRegression, PassiveAggressiveClassifier, LogisticRegression\n"
   ]
  },
  {
   "cell_type": "markdown",
   "id": "60eaf88b-eb5e-4af5-aa07-aa37af917db6",
   "metadata": {},
   "source": [
    "### Loading CSVs (3 differents with: initial, with correlation less that 0,8, With Variance > 0,02)"
   ]
  },
  {
   "cell_type": "code",
   "execution_count": 12,
   "id": "a42af20f-21f4-41d8-9ad8-c2b4f2c93d86",
   "metadata": {},
   "outputs": [],
   "source": [
    "data = pd.read_csv('data.csv')\n",
    "data.columns = data.columns.str.strip()\n",
    "data.rename(columns={'Debt ratio %': 'Debt_ratio'}, inplace=True)"
   ]
  },
  {
   "cell_type": "code",
   "execution_count": 25,
   "id": "547c9d5b-eb44-4c35-9aae-7d5f8732033a",
   "metadata": {},
   "outputs": [],
   "source": [
    "lc_data = pd.read_csv('low_correl_data.csv')\n",
    "hv_data = pd.read_csv('low_var_data.csv')\n",
    "pca_data = pd.read_csv('pca_data.csv')\n"
   ]
  },
  {
   "cell_type": "code",
   "execution_count": 16,
   "id": "3cad99d7-ad77-41b2-b8c3-03305f481b2e",
   "metadata": {},
   "outputs": [],
   "source": [
    "def split_and_smote(df, test_ratio, random_state, random_state_smote):\n",
    "    X = df.drop('Bankrupt?', axis=1)\n",
    "    y = df['Bankrupt?']\n",
    "    X_train, X_test, y_train, y_test = train_test_split(X, y, test_size=test_ratio, random_state=7986)\n",
    "    smote = SMOTE(random_state=random_state_smote)\n",
    "    X_train, y_train = smote.fit_resample(X_train, y_train)\n",
    "    return X_train, X_test, y_train, y_test"
   ]
  },
  {
   "cell_type": "code",
   "execution_count": 52,
   "id": "ce2c636a-b0e1-4bf0-913e-a56a5570b5c3",
   "metadata": {},
   "outputs": [
    {
     "data": {
      "text/plain": [
       "(10556, 95)"
      ]
     },
     "execution_count": 52,
     "metadata": {},
     "output_type": "execute_result"
    }
   ],
   "source": [
    "Xdata_train, Xdata_test, ydata_train, ydata_test = split_and_smote(data , 0.2 , 456 , 123)\n"
   ]
  },
  {
   "cell_type": "code",
   "execution_count": 21,
   "id": "670f1fa6-6af5-4af5-b648-4f3e7a42eb70",
   "metadata": {},
   "outputs": [],
   "source": [
    "Xlc_train, Xlc_test, ylc_train, ylc_test = split_and_smote(lc_data , 0.2 , 456 , 123)"
   ]
  },
  {
   "cell_type": "code",
   "execution_count": 22,
   "id": "c24289ee-0dde-4ea8-a312-fc31e9b516dd",
   "metadata": {},
   "outputs": [],
   "source": [
    "Xhv_train, Xhv_test, yhv_train, yhv_test = split_and_smote(hv_data , 0.2 , 456 , 123)"
   ]
  },
  {
   "cell_type": "markdown",
   "id": "26eabf2a-b407-40a2-bb1a-cc907f3c953c",
   "metadata": {},
   "source": [
    "### Model : Logistic Regression"
   ]
  },
  {
   "cell_type": "code",
   "execution_count": 48,
   "id": "f56228d8-0b08-489f-bfec-8ec38def66ba",
   "metadata": {},
   "outputs": [
    {
     "data": {
      "text/html": [
       "<style>#sk-container-id-14 {color: black;background-color: white;}#sk-container-id-14 pre{padding: 0;}#sk-container-id-14 div.sk-toggleable {background-color: white;}#sk-container-id-14 label.sk-toggleable__label {cursor: pointer;display: block;width: 100%;margin-bottom: 0;padding: 0.3em;box-sizing: border-box;text-align: center;}#sk-container-id-14 label.sk-toggleable__label-arrow:before {content: \"▸\";float: left;margin-right: 0.25em;color: #696969;}#sk-container-id-14 label.sk-toggleable__label-arrow:hover:before {color: black;}#sk-container-id-14 div.sk-estimator:hover label.sk-toggleable__label-arrow:before {color: black;}#sk-container-id-14 div.sk-toggleable__content {max-height: 0;max-width: 0;overflow: hidden;text-align: left;background-color: #f0f8ff;}#sk-container-id-14 div.sk-toggleable__content pre {margin: 0.2em;color: black;border-radius: 0.25em;background-color: #f0f8ff;}#sk-container-id-14 input.sk-toggleable__control:checked~div.sk-toggleable__content {max-height: 200px;max-width: 100%;overflow: auto;}#sk-container-id-14 input.sk-toggleable__control:checked~label.sk-toggleable__label-arrow:before {content: \"▾\";}#sk-container-id-14 div.sk-estimator input.sk-toggleable__control:checked~label.sk-toggleable__label {background-color: #d4ebff;}#sk-container-id-14 div.sk-label input.sk-toggleable__control:checked~label.sk-toggleable__label {background-color: #d4ebff;}#sk-container-id-14 input.sk-hidden--visually {border: 0;clip: rect(1px 1px 1px 1px);clip: rect(1px, 1px, 1px, 1px);height: 1px;margin: -1px;overflow: hidden;padding: 0;position: absolute;width: 1px;}#sk-container-id-14 div.sk-estimator {font-family: monospace;background-color: #f0f8ff;border: 1px dotted black;border-radius: 0.25em;box-sizing: border-box;margin-bottom: 0.5em;}#sk-container-id-14 div.sk-estimator:hover {background-color: #d4ebff;}#sk-container-id-14 div.sk-parallel-item::after {content: \"\";width: 100%;border-bottom: 1px solid gray;flex-grow: 1;}#sk-container-id-14 div.sk-label:hover label.sk-toggleable__label {background-color: #d4ebff;}#sk-container-id-14 div.sk-serial::before {content: \"\";position: absolute;border-left: 1px solid gray;box-sizing: border-box;top: 0;bottom: 0;left: 50%;z-index: 0;}#sk-container-id-14 div.sk-serial {display: flex;flex-direction: column;align-items: center;background-color: white;padding-right: 0.2em;padding-left: 0.2em;position: relative;}#sk-container-id-14 div.sk-item {position: relative;z-index: 1;}#sk-container-id-14 div.sk-parallel {display: flex;align-items: stretch;justify-content: center;background-color: white;position: relative;}#sk-container-id-14 div.sk-item::before, #sk-container-id-14 div.sk-parallel-item::before {content: \"\";position: absolute;border-left: 1px solid gray;box-sizing: border-box;top: 0;bottom: 0;left: 50%;z-index: -1;}#sk-container-id-14 div.sk-parallel-item {display: flex;flex-direction: column;z-index: 1;position: relative;background-color: white;}#sk-container-id-14 div.sk-parallel-item:first-child::after {align-self: flex-end;width: 50%;}#sk-container-id-14 div.sk-parallel-item:last-child::after {align-self: flex-start;width: 50%;}#sk-container-id-14 div.sk-parallel-item:only-child::after {width: 0;}#sk-container-id-14 div.sk-dashed-wrapped {border: 1px dashed gray;margin: 0 0.4em 0.5em 0.4em;box-sizing: border-box;padding-bottom: 0.4em;background-color: white;}#sk-container-id-14 div.sk-label label {font-family: monospace;font-weight: bold;display: inline-block;line-height: 1.2em;}#sk-container-id-14 div.sk-label-container {text-align: center;}#sk-container-id-14 div.sk-container {/* jupyter's `normalize.less` sets `[hidden] { display: none; }` but bootstrap.min.css set `[hidden] { display: none !important; }` so we also need the `!important` here to be able to override the default hidden behavior on the sphinx rendered scikit-learn.org. See: https://github.com/scikit-learn/scikit-learn/issues/21755 */display: inline-block !important;position: relative;}#sk-container-id-14 div.sk-text-repr-fallback {display: none;}</style><div id=\"sk-container-id-14\" class=\"sk-top-container\"><div class=\"sk-text-repr-fallback\"><pre>LogisticRegression(max_iter=1000)</pre><b>In a Jupyter environment, please rerun this cell to show the HTML representation or trust the notebook. <br />On GitHub, the HTML representation is unable to render, please try loading this page with nbviewer.org.</b></div><div class=\"sk-container\" hidden><div class=\"sk-item\"><div class=\"sk-estimator sk-toggleable\"><input class=\"sk-toggleable__control sk-hidden--visually\" id=\"sk-estimator-id-14\" type=\"checkbox\" checked><label for=\"sk-estimator-id-14\" class=\"sk-toggleable__label sk-toggleable__label-arrow\">LogisticRegression</label><div class=\"sk-toggleable__content\"><pre>LogisticRegression(max_iter=1000)</pre></div></div></div></div></div>"
      ],
      "text/plain": [
       "LogisticRegression(max_iter=1000)"
      ]
     },
     "execution_count": 48,
     "metadata": {},
     "output_type": "execute_result"
    }
   ],
   "source": [
    "LR_model = LogisticRegression(max_iter=1000)\n",
    "LR_model.fit(Xdata_train, ydata_train)"
   ]
  },
  {
   "cell_type": "code",
   "execution_count": 49,
   "id": "a92a8d7e-d27a-4281-90d9-b6a60390d873",
   "metadata": {},
   "outputs": [
    {
     "data": {
      "text/html": [
       "<style>#sk-container-id-15 {color: black;background-color: white;}#sk-container-id-15 pre{padding: 0;}#sk-container-id-15 div.sk-toggleable {background-color: white;}#sk-container-id-15 label.sk-toggleable__label {cursor: pointer;display: block;width: 100%;margin-bottom: 0;padding: 0.3em;box-sizing: border-box;text-align: center;}#sk-container-id-15 label.sk-toggleable__label-arrow:before {content: \"▸\";float: left;margin-right: 0.25em;color: #696969;}#sk-container-id-15 label.sk-toggleable__label-arrow:hover:before {color: black;}#sk-container-id-15 div.sk-estimator:hover label.sk-toggleable__label-arrow:before {color: black;}#sk-container-id-15 div.sk-toggleable__content {max-height: 0;max-width: 0;overflow: hidden;text-align: left;background-color: #f0f8ff;}#sk-container-id-15 div.sk-toggleable__content pre {margin: 0.2em;color: black;border-radius: 0.25em;background-color: #f0f8ff;}#sk-container-id-15 input.sk-toggleable__control:checked~div.sk-toggleable__content {max-height: 200px;max-width: 100%;overflow: auto;}#sk-container-id-15 input.sk-toggleable__control:checked~label.sk-toggleable__label-arrow:before {content: \"▾\";}#sk-container-id-15 div.sk-estimator input.sk-toggleable__control:checked~label.sk-toggleable__label {background-color: #d4ebff;}#sk-container-id-15 div.sk-label input.sk-toggleable__control:checked~label.sk-toggleable__label {background-color: #d4ebff;}#sk-container-id-15 input.sk-hidden--visually {border: 0;clip: rect(1px 1px 1px 1px);clip: rect(1px, 1px, 1px, 1px);height: 1px;margin: -1px;overflow: hidden;padding: 0;position: absolute;width: 1px;}#sk-container-id-15 div.sk-estimator {font-family: monospace;background-color: #f0f8ff;border: 1px dotted black;border-radius: 0.25em;box-sizing: border-box;margin-bottom: 0.5em;}#sk-container-id-15 div.sk-estimator:hover {background-color: #d4ebff;}#sk-container-id-15 div.sk-parallel-item::after {content: \"\";width: 100%;border-bottom: 1px solid gray;flex-grow: 1;}#sk-container-id-15 div.sk-label:hover label.sk-toggleable__label {background-color: #d4ebff;}#sk-container-id-15 div.sk-serial::before {content: \"\";position: absolute;border-left: 1px solid gray;box-sizing: border-box;top: 0;bottom: 0;left: 50%;z-index: 0;}#sk-container-id-15 div.sk-serial {display: flex;flex-direction: column;align-items: center;background-color: white;padding-right: 0.2em;padding-left: 0.2em;position: relative;}#sk-container-id-15 div.sk-item {position: relative;z-index: 1;}#sk-container-id-15 div.sk-parallel {display: flex;align-items: stretch;justify-content: center;background-color: white;position: relative;}#sk-container-id-15 div.sk-item::before, #sk-container-id-15 div.sk-parallel-item::before {content: \"\";position: absolute;border-left: 1px solid gray;box-sizing: border-box;top: 0;bottom: 0;left: 50%;z-index: -1;}#sk-container-id-15 div.sk-parallel-item {display: flex;flex-direction: column;z-index: 1;position: relative;background-color: white;}#sk-container-id-15 div.sk-parallel-item:first-child::after {align-self: flex-end;width: 50%;}#sk-container-id-15 div.sk-parallel-item:last-child::after {align-self: flex-start;width: 50%;}#sk-container-id-15 div.sk-parallel-item:only-child::after {width: 0;}#sk-container-id-15 div.sk-dashed-wrapped {border: 1px dashed gray;margin: 0 0.4em 0.5em 0.4em;box-sizing: border-box;padding-bottom: 0.4em;background-color: white;}#sk-container-id-15 div.sk-label label {font-family: monospace;font-weight: bold;display: inline-block;line-height: 1.2em;}#sk-container-id-15 div.sk-label-container {text-align: center;}#sk-container-id-15 div.sk-container {/* jupyter's `normalize.less` sets `[hidden] { display: none; }` but bootstrap.min.css set `[hidden] { display: none !important; }` so we also need the `!important` here to be able to override the default hidden behavior on the sphinx rendered scikit-learn.org. See: https://github.com/scikit-learn/scikit-learn/issues/21755 */display: inline-block !important;position: relative;}#sk-container-id-15 div.sk-text-repr-fallback {display: none;}</style><div id=\"sk-container-id-15\" class=\"sk-top-container\"><div class=\"sk-text-repr-fallback\"><pre>LogisticRegression(max_iter=1000)</pre><b>In a Jupyter environment, please rerun this cell to show the HTML representation or trust the notebook. <br />On GitHub, the HTML representation is unable to render, please try loading this page with nbviewer.org.</b></div><div class=\"sk-container\" hidden><div class=\"sk-item\"><div class=\"sk-estimator sk-toggleable\"><input class=\"sk-toggleable__control sk-hidden--visually\" id=\"sk-estimator-id-15\" type=\"checkbox\" checked><label for=\"sk-estimator-id-15\" class=\"sk-toggleable__label sk-toggleable__label-arrow\">LogisticRegression</label><div class=\"sk-toggleable__content\"><pre>LogisticRegression(max_iter=1000)</pre></div></div></div></div></div>"
      ],
      "text/plain": [
       "LogisticRegression(max_iter=1000)"
      ]
     },
     "execution_count": 49,
     "metadata": {},
     "output_type": "execute_result"
    }
   ],
   "source": [
    "LR_model.fit(Xlc_train, ylc_train)"
   ]
  },
  {
   "cell_type": "code",
   "execution_count": 50,
   "id": "e5a01be7-3808-48e6-97c4-e30b9de05071",
   "metadata": {},
   "outputs": [
    {
     "data": {
      "text/html": [
       "<style>#sk-container-id-16 {color: black;background-color: white;}#sk-container-id-16 pre{padding: 0;}#sk-container-id-16 div.sk-toggleable {background-color: white;}#sk-container-id-16 label.sk-toggleable__label {cursor: pointer;display: block;width: 100%;margin-bottom: 0;padding: 0.3em;box-sizing: border-box;text-align: center;}#sk-container-id-16 label.sk-toggleable__label-arrow:before {content: \"▸\";float: left;margin-right: 0.25em;color: #696969;}#sk-container-id-16 label.sk-toggleable__label-arrow:hover:before {color: black;}#sk-container-id-16 div.sk-estimator:hover label.sk-toggleable__label-arrow:before {color: black;}#sk-container-id-16 div.sk-toggleable__content {max-height: 0;max-width: 0;overflow: hidden;text-align: left;background-color: #f0f8ff;}#sk-container-id-16 div.sk-toggleable__content pre {margin: 0.2em;color: black;border-radius: 0.25em;background-color: #f0f8ff;}#sk-container-id-16 input.sk-toggleable__control:checked~div.sk-toggleable__content {max-height: 200px;max-width: 100%;overflow: auto;}#sk-container-id-16 input.sk-toggleable__control:checked~label.sk-toggleable__label-arrow:before {content: \"▾\";}#sk-container-id-16 div.sk-estimator input.sk-toggleable__control:checked~label.sk-toggleable__label {background-color: #d4ebff;}#sk-container-id-16 div.sk-label input.sk-toggleable__control:checked~label.sk-toggleable__label {background-color: #d4ebff;}#sk-container-id-16 input.sk-hidden--visually {border: 0;clip: rect(1px 1px 1px 1px);clip: rect(1px, 1px, 1px, 1px);height: 1px;margin: -1px;overflow: hidden;padding: 0;position: absolute;width: 1px;}#sk-container-id-16 div.sk-estimator {font-family: monospace;background-color: #f0f8ff;border: 1px dotted black;border-radius: 0.25em;box-sizing: border-box;margin-bottom: 0.5em;}#sk-container-id-16 div.sk-estimator:hover {background-color: #d4ebff;}#sk-container-id-16 div.sk-parallel-item::after {content: \"\";width: 100%;border-bottom: 1px solid gray;flex-grow: 1;}#sk-container-id-16 div.sk-label:hover label.sk-toggleable__label {background-color: #d4ebff;}#sk-container-id-16 div.sk-serial::before {content: \"\";position: absolute;border-left: 1px solid gray;box-sizing: border-box;top: 0;bottom: 0;left: 50%;z-index: 0;}#sk-container-id-16 div.sk-serial {display: flex;flex-direction: column;align-items: center;background-color: white;padding-right: 0.2em;padding-left: 0.2em;position: relative;}#sk-container-id-16 div.sk-item {position: relative;z-index: 1;}#sk-container-id-16 div.sk-parallel {display: flex;align-items: stretch;justify-content: center;background-color: white;position: relative;}#sk-container-id-16 div.sk-item::before, #sk-container-id-16 div.sk-parallel-item::before {content: \"\";position: absolute;border-left: 1px solid gray;box-sizing: border-box;top: 0;bottom: 0;left: 50%;z-index: -1;}#sk-container-id-16 div.sk-parallel-item {display: flex;flex-direction: column;z-index: 1;position: relative;background-color: white;}#sk-container-id-16 div.sk-parallel-item:first-child::after {align-self: flex-end;width: 50%;}#sk-container-id-16 div.sk-parallel-item:last-child::after {align-self: flex-start;width: 50%;}#sk-container-id-16 div.sk-parallel-item:only-child::after {width: 0;}#sk-container-id-16 div.sk-dashed-wrapped {border: 1px dashed gray;margin: 0 0.4em 0.5em 0.4em;box-sizing: border-box;padding-bottom: 0.4em;background-color: white;}#sk-container-id-16 div.sk-label label {font-family: monospace;font-weight: bold;display: inline-block;line-height: 1.2em;}#sk-container-id-16 div.sk-label-container {text-align: center;}#sk-container-id-16 div.sk-container {/* jupyter's `normalize.less` sets `[hidden] { display: none; }` but bootstrap.min.css set `[hidden] { display: none !important; }` so we also need the `!important` here to be able to override the default hidden behavior on the sphinx rendered scikit-learn.org. See: https://github.com/scikit-learn/scikit-learn/issues/21755 */display: inline-block !important;position: relative;}#sk-container-id-16 div.sk-text-repr-fallback {display: none;}</style><div id=\"sk-container-id-16\" class=\"sk-top-container\"><div class=\"sk-text-repr-fallback\"><pre>LogisticRegression(max_iter=1000)</pre><b>In a Jupyter environment, please rerun this cell to show the HTML representation or trust the notebook. <br />On GitHub, the HTML representation is unable to render, please try loading this page with nbviewer.org.</b></div><div class=\"sk-container\" hidden><div class=\"sk-item\"><div class=\"sk-estimator sk-toggleable\"><input class=\"sk-toggleable__control sk-hidden--visually\" id=\"sk-estimator-id-16\" type=\"checkbox\" checked><label for=\"sk-estimator-id-16\" class=\"sk-toggleable__label sk-toggleable__label-arrow\">LogisticRegression</label><div class=\"sk-toggleable__content\"><pre>LogisticRegression(max_iter=1000)</pre></div></div></div></div></div>"
      ],
      "text/plain": [
       "LogisticRegression(max_iter=1000)"
      ]
     },
     "execution_count": 50,
     "metadata": {},
     "output_type": "execute_result"
    }
   ],
   "source": [
    "LR_model.fit(Xhv_train, yhv_train)"
   ]
  },
  {
   "cell_type": "code",
   "execution_count": 55,
   "id": "e393872b-cb86-459b-89f9-6ad1474df6e7",
   "metadata": {},
   "outputs": [
    {
     "ename": "ValueError",
     "evalue": "The feature names should match those that were passed during fit.\nFeature names unseen at fit time:\n- After-tax Net Profit Growth Rate\n- After-tax net Interest Rate\n- Borrowing dependency\n- CFO to Assets\n- Cash Flow Per Share\n- ...\n",
     "output_type": "error",
     "traceback": [
      "\u001b[0;31m---------------------------------------------------------------------------\u001b[0m",
      "\u001b[0;31mValueError\u001b[0m                                Traceback (most recent call last)",
      "Cell \u001b[0;32mIn[55], line 1\u001b[0m\n\u001b[0;32m----> 1\u001b[0m ydata_LRpred \u001b[38;5;241m=\u001b[39m LR_model\u001b[38;5;241m.\u001b[39mpredict(Xdata_test)\n",
      "File \u001b[0;32m~/anaconda3/lib/python3.11/site-packages/sklearn/linear_model/_base.py:419\u001b[0m, in \u001b[0;36mLinearClassifierMixin.predict\u001b[0;34m(self, X)\u001b[0m\n\u001b[1;32m    405\u001b[0m \u001b[38;5;250m\u001b[39m\u001b[38;5;124;03m\"\"\"\u001b[39;00m\n\u001b[1;32m    406\u001b[0m \u001b[38;5;124;03mPredict class labels for samples in X.\u001b[39;00m\n\u001b[1;32m    407\u001b[0m \n\u001b[0;32m   (...)\u001b[0m\n\u001b[1;32m    416\u001b[0m \u001b[38;5;124;03m    Vector containing the class labels for each sample.\u001b[39;00m\n\u001b[1;32m    417\u001b[0m \u001b[38;5;124;03m\"\"\"\u001b[39;00m\n\u001b[1;32m    418\u001b[0m xp, _ \u001b[38;5;241m=\u001b[39m get_namespace(X)\n\u001b[0;32m--> 419\u001b[0m scores \u001b[38;5;241m=\u001b[39m \u001b[38;5;28mself\u001b[39m\u001b[38;5;241m.\u001b[39mdecision_function(X)\n\u001b[1;32m    420\u001b[0m \u001b[38;5;28;01mif\u001b[39;00m \u001b[38;5;28mlen\u001b[39m(scores\u001b[38;5;241m.\u001b[39mshape) \u001b[38;5;241m==\u001b[39m \u001b[38;5;241m1\u001b[39m:\n\u001b[1;32m    421\u001b[0m     indices \u001b[38;5;241m=\u001b[39m xp\u001b[38;5;241m.\u001b[39mastype(scores \u001b[38;5;241m>\u001b[39m \u001b[38;5;241m0\u001b[39m, \u001b[38;5;28mint\u001b[39m)\n",
      "File \u001b[0;32m~/anaconda3/lib/python3.11/site-packages/sklearn/linear_model/_base.py:400\u001b[0m, in \u001b[0;36mLinearClassifierMixin.decision_function\u001b[0;34m(self, X)\u001b[0m\n\u001b[1;32m    397\u001b[0m check_is_fitted(\u001b[38;5;28mself\u001b[39m)\n\u001b[1;32m    398\u001b[0m xp, _ \u001b[38;5;241m=\u001b[39m get_namespace(X)\n\u001b[0;32m--> 400\u001b[0m X \u001b[38;5;241m=\u001b[39m \u001b[38;5;28mself\u001b[39m\u001b[38;5;241m.\u001b[39m_validate_data(X, accept_sparse\u001b[38;5;241m=\u001b[39m\u001b[38;5;124m\"\u001b[39m\u001b[38;5;124mcsr\u001b[39m\u001b[38;5;124m\"\u001b[39m, reset\u001b[38;5;241m=\u001b[39m\u001b[38;5;28;01mFalse\u001b[39;00m)\n\u001b[1;32m    401\u001b[0m scores \u001b[38;5;241m=\u001b[39m safe_sparse_dot(X, \u001b[38;5;28mself\u001b[39m\u001b[38;5;241m.\u001b[39mcoef_\u001b[38;5;241m.\u001b[39mT, dense_output\u001b[38;5;241m=\u001b[39m\u001b[38;5;28;01mTrue\u001b[39;00m) \u001b[38;5;241m+\u001b[39m \u001b[38;5;28mself\u001b[39m\u001b[38;5;241m.\u001b[39mintercept_\n\u001b[1;32m    402\u001b[0m \u001b[38;5;28;01mreturn\u001b[39;00m xp\u001b[38;5;241m.\u001b[39mreshape(scores, \u001b[38;5;241m-\u001b[39m\u001b[38;5;241m1\u001b[39m) \u001b[38;5;28;01mif\u001b[39;00m scores\u001b[38;5;241m.\u001b[39mshape[\u001b[38;5;241m1\u001b[39m] \u001b[38;5;241m==\u001b[39m \u001b[38;5;241m1\u001b[39m \u001b[38;5;28;01melse\u001b[39;00m scores\n",
      "File \u001b[0;32m~/anaconda3/lib/python3.11/site-packages/sklearn/base.py:548\u001b[0m, in \u001b[0;36mBaseEstimator._validate_data\u001b[0;34m(self, X, y, reset, validate_separately, **check_params)\u001b[0m\n\u001b[1;32m    483\u001b[0m \u001b[38;5;28;01mdef\u001b[39;00m \u001b[38;5;21m_validate_data\u001b[39m(\n\u001b[1;32m    484\u001b[0m     \u001b[38;5;28mself\u001b[39m,\n\u001b[1;32m    485\u001b[0m     X\u001b[38;5;241m=\u001b[39m\u001b[38;5;124m\"\u001b[39m\u001b[38;5;124mno_validation\u001b[39m\u001b[38;5;124m\"\u001b[39m,\n\u001b[0;32m   (...)\u001b[0m\n\u001b[1;32m    489\u001b[0m     \u001b[38;5;241m*\u001b[39m\u001b[38;5;241m*\u001b[39mcheck_params,\n\u001b[1;32m    490\u001b[0m ):\n\u001b[1;32m    491\u001b[0m \u001b[38;5;250m    \u001b[39m\u001b[38;5;124;03m\"\"\"Validate input data and set or check the `n_features_in_` attribute.\u001b[39;00m\n\u001b[1;32m    492\u001b[0m \n\u001b[1;32m    493\u001b[0m \u001b[38;5;124;03m    Parameters\u001b[39;00m\n\u001b[0;32m   (...)\u001b[0m\n\u001b[1;32m    546\u001b[0m \u001b[38;5;124;03m        validated.\u001b[39;00m\n\u001b[1;32m    547\u001b[0m \u001b[38;5;124;03m    \"\"\"\u001b[39;00m\n\u001b[0;32m--> 548\u001b[0m     \u001b[38;5;28mself\u001b[39m\u001b[38;5;241m.\u001b[39m_check_feature_names(X, reset\u001b[38;5;241m=\u001b[39mreset)\n\u001b[1;32m    550\u001b[0m     \u001b[38;5;28;01mif\u001b[39;00m y \u001b[38;5;129;01mis\u001b[39;00m \u001b[38;5;28;01mNone\u001b[39;00m \u001b[38;5;129;01mand\u001b[39;00m \u001b[38;5;28mself\u001b[39m\u001b[38;5;241m.\u001b[39m_get_tags()[\u001b[38;5;124m\"\u001b[39m\u001b[38;5;124mrequires_y\u001b[39m\u001b[38;5;124m\"\u001b[39m]:\n\u001b[1;32m    551\u001b[0m         \u001b[38;5;28;01mraise\u001b[39;00m \u001b[38;5;167;01mValueError\u001b[39;00m(\n\u001b[1;32m    552\u001b[0m             \u001b[38;5;124mf\u001b[39m\u001b[38;5;124m\"\u001b[39m\u001b[38;5;124mThis \u001b[39m\u001b[38;5;132;01m{\u001b[39;00m\u001b[38;5;28mself\u001b[39m\u001b[38;5;241m.\u001b[39m\u001b[38;5;18m__class__\u001b[39m\u001b[38;5;241m.\u001b[39m\u001b[38;5;18m__name__\u001b[39m\u001b[38;5;132;01m}\u001b[39;00m\u001b[38;5;124m estimator \u001b[39m\u001b[38;5;124m\"\u001b[39m\n\u001b[1;32m    553\u001b[0m             \u001b[38;5;124m\"\u001b[39m\u001b[38;5;124mrequires y to be passed, but the target y is None.\u001b[39m\u001b[38;5;124m\"\u001b[39m\n\u001b[1;32m    554\u001b[0m         )\n",
      "File \u001b[0;32m~/anaconda3/lib/python3.11/site-packages/sklearn/base.py:481\u001b[0m, in \u001b[0;36mBaseEstimator._check_feature_names\u001b[0;34m(self, X, reset)\u001b[0m\n\u001b[1;32m    476\u001b[0m \u001b[38;5;28;01mif\u001b[39;00m \u001b[38;5;129;01mnot\u001b[39;00m missing_names \u001b[38;5;129;01mand\u001b[39;00m \u001b[38;5;129;01mnot\u001b[39;00m unexpected_names:\n\u001b[1;32m    477\u001b[0m     message \u001b[38;5;241m+\u001b[39m\u001b[38;5;241m=\u001b[39m (\n\u001b[1;32m    478\u001b[0m         \u001b[38;5;124m\"\u001b[39m\u001b[38;5;124mFeature names must be in the same order as they were in fit.\u001b[39m\u001b[38;5;130;01m\\n\u001b[39;00m\u001b[38;5;124m\"\u001b[39m\n\u001b[1;32m    479\u001b[0m     )\n\u001b[0;32m--> 481\u001b[0m \u001b[38;5;28;01mraise\u001b[39;00m \u001b[38;5;167;01mValueError\u001b[39;00m(message)\n",
      "\u001b[0;31mValueError\u001b[0m: The feature names should match those that were passed during fit.\nFeature names unseen at fit time:\n- After-tax Net Profit Growth Rate\n- After-tax net Interest Rate\n- Borrowing dependency\n- CFO to Assets\n- Cash Flow Per Share\n- ...\n"
     ]
    }
   ],
   "source": [
    "ydata_LRpred = LR_model.predict(Xdata_test)"
   ]
  },
  {
   "cell_type": "code",
   "execution_count": 56,
   "id": "527c2093-825c-4bff-b2bf-7ab7b2765255",
   "metadata": {},
   "outputs": [
    {
     "data": {
      "text/html": [
       "<div>\n",
       "<style scoped>\n",
       "    .dataframe tbody tr th:only-of-type {\n",
       "        vertical-align: middle;\n",
       "    }\n",
       "\n",
       "    .dataframe tbody tr th {\n",
       "        vertical-align: top;\n",
       "    }\n",
       "\n",
       "    .dataframe thead th {\n",
       "        text-align: right;\n",
       "    }\n",
       "</style>\n",
       "<table border=\"1\" class=\"dataframe\">\n",
       "  <thead>\n",
       "    <tr style=\"text-align: right;\">\n",
       "      <th></th>\n",
       "      <th>ROA(C) before interest and depreciation before interest</th>\n",
       "      <th>ROA(A) before interest and % after tax</th>\n",
       "      <th>ROA(B) before interest and depreciation after tax</th>\n",
       "      <th>Operating Gross Margin</th>\n",
       "      <th>Realized Sales Gross Margin</th>\n",
       "      <th>Operating Profit Rate</th>\n",
       "      <th>Pre-tax net Interest Rate</th>\n",
       "      <th>After-tax net Interest Rate</th>\n",
       "      <th>Non-industry income and expenditure/revenue</th>\n",
       "      <th>Continuous interest rate (after tax)</th>\n",
       "      <th>...</th>\n",
       "      <th>Net Income to Total Assets</th>\n",
       "      <th>Total assets to GNP price</th>\n",
       "      <th>No-credit Interval</th>\n",
       "      <th>Gross Profit to Sales</th>\n",
       "      <th>Net Income to Stockholder's Equity</th>\n",
       "      <th>Liability to Equity</th>\n",
       "      <th>Degree of Financial Leverage (DFL)</th>\n",
       "      <th>Interest Coverage Ratio (Interest expense to EBIT)</th>\n",
       "      <th>Net Income Flag</th>\n",
       "      <th>Equity to Liability</th>\n",
       "    </tr>\n",
       "  </thead>\n",
       "  <tbody>\n",
       "    <tr>\n",
       "      <th>0</th>\n",
       "      <td>0.569444</td>\n",
       "      <td>0.586186</td>\n",
       "      <td>0.628406</td>\n",
       "      <td>0.612520</td>\n",
       "      <td>0.612520</td>\n",
       "      <td>0.999165</td>\n",
       "      <td>0.797647</td>\n",
       "      <td>0.809541</td>\n",
       "      <td>0.303565</td>\n",
       "      <td>0.781811</td>\n",
       "      <td>...</td>\n",
       "      <td>0.823108</td>\n",
       "      <td>0.006469</td>\n",
       "      <td>0.623595</td>\n",
       "      <td>0.612519</td>\n",
       "      <td>0.841918</td>\n",
       "      <td>0.278031</td>\n",
       "      <td>0.026830</td>\n",
       "      <td>0.565337</td>\n",
       "      <td>1</td>\n",
       "      <td>0.039134</td>\n",
       "    </tr>\n",
       "    <tr>\n",
       "      <th>1</th>\n",
       "      <td>0.468142</td>\n",
       "      <td>0.534562</td>\n",
       "      <td>0.520959</td>\n",
       "      <td>0.598495</td>\n",
       "      <td>0.598538</td>\n",
       "      <td>0.998963</td>\n",
       "      <td>0.797381</td>\n",
       "      <td>0.809307</td>\n",
       "      <td>0.303521</td>\n",
       "      <td>0.781541</td>\n",
       "      <td>...</td>\n",
       "      <td>0.796095</td>\n",
       "      <td>0.009780</td>\n",
       "      <td>0.624140</td>\n",
       "      <td>0.598496</td>\n",
       "      <td>0.840054</td>\n",
       "      <td>0.281694</td>\n",
       "      <td>0.047109</td>\n",
       "      <td>0.569948</td>\n",
       "      <td>1</td>\n",
       "      <td>0.024036</td>\n",
       "    </tr>\n",
       "    <tr>\n",
       "      <th>2</th>\n",
       "      <td>0.432896</td>\n",
       "      <td>0.501526</td>\n",
       "      <td>0.482628</td>\n",
       "      <td>0.590741</td>\n",
       "      <td>0.590770</td>\n",
       "      <td>0.998864</td>\n",
       "      <td>0.797032</td>\n",
       "      <td>0.808984</td>\n",
       "      <td>0.303120</td>\n",
       "      <td>0.781172</td>\n",
       "      <td>...</td>\n",
       "      <td>0.778740</td>\n",
       "      <td>0.007182</td>\n",
       "      <td>0.623217</td>\n",
       "      <td>0.590737</td>\n",
       "      <td>0.838851</td>\n",
       "      <td>0.278031</td>\n",
       "      <td>0.026702</td>\n",
       "      <td>0.564693</td>\n",
       "      <td>1</td>\n",
       "      <td>0.039132</td>\n",
       "    </tr>\n",
       "    <tr>\n",
       "      <th>3</th>\n",
       "      <td>0.489787</td>\n",
       "      <td>0.551679</td>\n",
       "      <td>0.536485</td>\n",
       "      <td>0.598048</td>\n",
       "      <td>0.598048</td>\n",
       "      <td>0.998987</td>\n",
       "      <td>0.797382</td>\n",
       "      <td>0.809308</td>\n",
       "      <td>0.303475</td>\n",
       "      <td>0.781565</td>\n",
       "      <td>...</td>\n",
       "      <td>0.796879</td>\n",
       "      <td>0.001452</td>\n",
       "      <td>0.623520</td>\n",
       "      <td>0.598046</td>\n",
       "      <td>0.840241</td>\n",
       "      <td>0.298939</td>\n",
       "      <td>0.037504</td>\n",
       "      <td>0.569745</td>\n",
       "      <td>1</td>\n",
       "      <td>0.014222</td>\n",
       "    </tr>\n",
       "    <tr>\n",
       "      <th>4</th>\n",
       "      <td>0.620192</td>\n",
       "      <td>0.702846</td>\n",
       "      <td>0.691632</td>\n",
       "      <td>0.620908</td>\n",
       "      <td>0.620908</td>\n",
       "      <td>0.999207</td>\n",
       "      <td>0.797683</td>\n",
       "      <td>0.809604</td>\n",
       "      <td>0.303540</td>\n",
       "      <td>0.781885</td>\n",
       "      <td>...</td>\n",
       "      <td>0.879568</td>\n",
       "      <td>0.001569</td>\n",
       "      <td>0.624056</td>\n",
       "      <td>0.620907</td>\n",
       "      <td>0.845733</td>\n",
       "      <td>0.277877</td>\n",
       "      <td>0.026791</td>\n",
       "      <td>0.565159</td>\n",
       "      <td>1</td>\n",
       "      <td>0.040519</td>\n",
       "    </tr>\n",
       "  </tbody>\n",
       "</table>\n",
       "<p>5 rows × 95 columns</p>\n",
       "</div>"
      ],
      "text/plain": [
       "   ROA(C) before interest and depreciation before interest  \\\n",
       "0                                           0.569444         \n",
       "1                                           0.468142         \n",
       "2                                           0.432896         \n",
       "3                                           0.489787         \n",
       "4                                           0.620192         \n",
       "\n",
       "   ROA(A) before interest and % after tax  \\\n",
       "0                                0.586186   \n",
       "1                                0.534562   \n",
       "2                                0.501526   \n",
       "3                                0.551679   \n",
       "4                                0.702846   \n",
       "\n",
       "   ROA(B) before interest and depreciation after tax  Operating Gross Margin  \\\n",
       "0                                           0.628406                0.612520   \n",
       "1                                           0.520959                0.598495   \n",
       "2                                           0.482628                0.590741   \n",
       "3                                           0.536485                0.598048   \n",
       "4                                           0.691632                0.620908   \n",
       "\n",
       "   Realized Sales Gross Margin  Operating Profit Rate  \\\n",
       "0                     0.612520               0.999165   \n",
       "1                     0.598538               0.998963   \n",
       "2                     0.590770               0.998864   \n",
       "3                     0.598048               0.998987   \n",
       "4                     0.620908               0.999207   \n",
       "\n",
       "   Pre-tax net Interest Rate  After-tax net Interest Rate  \\\n",
       "0                   0.797647                     0.809541   \n",
       "1                   0.797381                     0.809307   \n",
       "2                   0.797032                     0.808984   \n",
       "3                   0.797382                     0.809308   \n",
       "4                   0.797683                     0.809604   \n",
       "\n",
       "   Non-industry income and expenditure/revenue  \\\n",
       "0                                     0.303565   \n",
       "1                                     0.303521   \n",
       "2                                     0.303120   \n",
       "3                                     0.303475   \n",
       "4                                     0.303540   \n",
       "\n",
       "   Continuous interest rate (after tax)  ...  Net Income to Total Assets  \\\n",
       "0                              0.781811  ...                    0.823108   \n",
       "1                              0.781541  ...                    0.796095   \n",
       "2                              0.781172  ...                    0.778740   \n",
       "3                              0.781565  ...                    0.796879   \n",
       "4                              0.781885  ...                    0.879568   \n",
       "\n",
       "   Total assets to GNP price  No-credit Interval  Gross Profit to Sales  \\\n",
       "0                   0.006469            0.623595               0.612519   \n",
       "1                   0.009780            0.624140               0.598496   \n",
       "2                   0.007182            0.623217               0.590737   \n",
       "3                   0.001452            0.623520               0.598046   \n",
       "4                   0.001569            0.624056               0.620907   \n",
       "\n",
       "   Net Income to Stockholder's Equity  Liability to Equity  \\\n",
       "0                            0.841918             0.278031   \n",
       "1                            0.840054             0.281694   \n",
       "2                            0.838851             0.278031   \n",
       "3                            0.840241             0.298939   \n",
       "4                            0.845733             0.277877   \n",
       "\n",
       "   Degree of Financial Leverage (DFL)  \\\n",
       "0                            0.026830   \n",
       "1                            0.047109   \n",
       "2                            0.026702   \n",
       "3                            0.037504   \n",
       "4                            0.026791   \n",
       "\n",
       "   Interest Coverage Ratio (Interest expense to EBIT)  Net Income Flag  \\\n",
       "0                                           0.565337                 1   \n",
       "1                                           0.569948                 1   \n",
       "2                                           0.564693                 1   \n",
       "3                                           0.569745                 1   \n",
       "4                                           0.565159                 1   \n",
       "\n",
       "   Equity to Liability  \n",
       "0             0.039134  \n",
       "1             0.024036  \n",
       "2             0.039132  \n",
       "3             0.014222  \n",
       "4             0.040519  \n",
       "\n",
       "[5 rows x 95 columns]"
      ]
     },
     "execution_count": 56,
     "metadata": {},
     "output_type": "execute_result"
    }
   ],
   "source": [
    "Xdata_train.head()"
   ]
  },
  {
   "cell_type": "code",
   "execution_count": 57,
   "id": "0acdcd57-57e2-4049-b933-28e047592679",
   "metadata": {},
   "outputs": [
    {
     "data": {
      "text/html": [
       "<div>\n",
       "<style scoped>\n",
       "    .dataframe tbody tr th:only-of-type {\n",
       "        vertical-align: middle;\n",
       "    }\n",
       "\n",
       "    .dataframe tbody tr th {\n",
       "        vertical-align: top;\n",
       "    }\n",
       "\n",
       "    .dataframe thead th {\n",
       "        text-align: right;\n",
       "    }\n",
       "</style>\n",
       "<table border=\"1\" class=\"dataframe\">\n",
       "  <thead>\n",
       "    <tr style=\"text-align: right;\">\n",
       "      <th></th>\n",
       "      <th>ROA(C) before interest and depreciation before interest</th>\n",
       "      <th>ROA(A) before interest and % after tax</th>\n",
       "      <th>ROA(B) before interest and depreciation after tax</th>\n",
       "      <th>Operating Gross Margin</th>\n",
       "      <th>Realized Sales Gross Margin</th>\n",
       "      <th>Operating Profit Rate</th>\n",
       "      <th>Pre-tax net Interest Rate</th>\n",
       "      <th>After-tax net Interest Rate</th>\n",
       "      <th>Non-industry income and expenditure/revenue</th>\n",
       "      <th>Continuous interest rate (after tax)</th>\n",
       "      <th>...</th>\n",
       "      <th>Net Income to Total Assets</th>\n",
       "      <th>Total assets to GNP price</th>\n",
       "      <th>No-credit Interval</th>\n",
       "      <th>Gross Profit to Sales</th>\n",
       "      <th>Net Income to Stockholder's Equity</th>\n",
       "      <th>Liability to Equity</th>\n",
       "      <th>Degree of Financial Leverage (DFL)</th>\n",
       "      <th>Interest Coverage Ratio (Interest expense to EBIT)</th>\n",
       "      <th>Net Income Flag</th>\n",
       "      <th>Equity to Liability</th>\n",
       "    </tr>\n",
       "  </thead>\n",
       "  <tbody>\n",
       "    <tr>\n",
       "      <th>2829</th>\n",
       "      <td>0.457661</td>\n",
       "      <td>0.539195</td>\n",
       "      <td>0.508325</td>\n",
       "      <td>0.599670</td>\n",
       "      <td>0.599670</td>\n",
       "      <td>0.998880</td>\n",
       "      <td>0.797412</td>\n",
       "      <td>0.809326</td>\n",
       "      <td>0.303750</td>\n",
       "      <td>0.781420</td>\n",
       "      <td>...</td>\n",
       "      <td>0.797230</td>\n",
       "      <td>0.024271</td>\n",
       "      <td>0.622684</td>\n",
       "      <td>0.599668</td>\n",
       "      <td>0.840182</td>\n",
       "      <td>0.283932</td>\n",
       "      <td>0.029567</td>\n",
       "      <td>0.568808</td>\n",
       "      <td>1</td>\n",
       "      <td>0.020696</td>\n",
       "    </tr>\n",
       "    <tr>\n",
       "      <th>1911</th>\n",
       "      <td>0.548774</td>\n",
       "      <td>0.575992</td>\n",
       "      <td>0.601906</td>\n",
       "      <td>0.625218</td>\n",
       "      <td>0.625218</td>\n",
       "      <td>0.999056</td>\n",
       "      <td>0.797548</td>\n",
       "      <td>0.809502</td>\n",
       "      <td>0.303619</td>\n",
       "      <td>0.781754</td>\n",
       "      <td>...</td>\n",
       "      <td>0.817849</td>\n",
       "      <td>0.000545</td>\n",
       "      <td>0.625150</td>\n",
       "      <td>0.625218</td>\n",
       "      <td>0.841178</td>\n",
       "      <td>0.275552</td>\n",
       "      <td>0.026791</td>\n",
       "      <td>0.565158</td>\n",
       "      <td>1</td>\n",
       "      <td>0.121426</td>\n",
       "    </tr>\n",
       "    <tr>\n",
       "      <th>5950</th>\n",
       "      <td>0.476966</td>\n",
       "      <td>0.525131</td>\n",
       "      <td>0.526527</td>\n",
       "      <td>0.597616</td>\n",
       "      <td>0.597169</td>\n",
       "      <td>0.998937</td>\n",
       "      <td>0.797365</td>\n",
       "      <td>0.809269</td>\n",
       "      <td>0.303550</td>\n",
       "      <td>0.781611</td>\n",
       "      <td>...</td>\n",
       "      <td>0.792243</td>\n",
       "      <td>0.000760</td>\n",
       "      <td>0.625029</td>\n",
       "      <td>0.597615</td>\n",
       "      <td>0.839814</td>\n",
       "      <td>0.276879</td>\n",
       "      <td>0.026200</td>\n",
       "      <td>0.558753</td>\n",
       "      <td>1</td>\n",
       "      <td>0.054270</td>\n",
       "    </tr>\n",
       "    <tr>\n",
       "      <th>6257</th>\n",
       "      <td>0.478575</td>\n",
       "      <td>0.541321</td>\n",
       "      <td>0.527705</td>\n",
       "      <td>0.606394</td>\n",
       "      <td>0.606394</td>\n",
       "      <td>0.999027</td>\n",
       "      <td>0.797449</td>\n",
       "      <td>0.809354</td>\n",
       "      <td>0.303506</td>\n",
       "      <td>0.781625</td>\n",
       "      <td>...</td>\n",
       "      <td>0.802114</td>\n",
       "      <td>0.001682</td>\n",
       "      <td>0.623796</td>\n",
       "      <td>0.606391</td>\n",
       "      <td>0.840385</td>\n",
       "      <td>0.276116</td>\n",
       "      <td>0.026794</td>\n",
       "      <td>0.565174</td>\n",
       "      <td>1</td>\n",
       "      <td>0.077683</td>\n",
       "    </tr>\n",
       "    <tr>\n",
       "      <th>1517</th>\n",
       "      <td>0.334325</td>\n",
       "      <td>0.393044</td>\n",
       "      <td>0.386905</td>\n",
       "      <td>0.571275</td>\n",
       "      <td>0.571275</td>\n",
       "      <td>0.998378</td>\n",
       "      <td>0.796688</td>\n",
       "      <td>0.808731</td>\n",
       "      <td>0.303536</td>\n",
       "      <td>0.780934</td>\n",
       "      <td>...</td>\n",
       "      <td>0.730177</td>\n",
       "      <td>0.000821</td>\n",
       "      <td>0.623790</td>\n",
       "      <td>0.571274</td>\n",
       "      <td>0.834077</td>\n",
       "      <td>0.281133</td>\n",
       "      <td>0.026745</td>\n",
       "      <td>0.564929</td>\n",
       "      <td>1</td>\n",
       "      <td>0.025237</td>\n",
       "    </tr>\n",
       "  </tbody>\n",
       "</table>\n",
       "<p>5 rows × 95 columns</p>\n",
       "</div>"
      ],
      "text/plain": [
       "      ROA(C) before interest and depreciation before interest  \\\n",
       "2829                                           0.457661         \n",
       "1911                                           0.548774         \n",
       "5950                                           0.476966         \n",
       "6257                                           0.478575         \n",
       "1517                                           0.334325         \n",
       "\n",
       "      ROA(A) before interest and % after tax  \\\n",
       "2829                                0.539195   \n",
       "1911                                0.575992   \n",
       "5950                                0.525131   \n",
       "6257                                0.541321   \n",
       "1517                                0.393044   \n",
       "\n",
       "      ROA(B) before interest and depreciation after tax  \\\n",
       "2829                                           0.508325   \n",
       "1911                                           0.601906   \n",
       "5950                                           0.526527   \n",
       "6257                                           0.527705   \n",
       "1517                                           0.386905   \n",
       "\n",
       "      Operating Gross Margin  Realized Sales Gross Margin  \\\n",
       "2829                0.599670                     0.599670   \n",
       "1911                0.625218                     0.625218   \n",
       "5950                0.597616                     0.597169   \n",
       "6257                0.606394                     0.606394   \n",
       "1517                0.571275                     0.571275   \n",
       "\n",
       "      Operating Profit Rate  Pre-tax net Interest Rate  \\\n",
       "2829               0.998880                   0.797412   \n",
       "1911               0.999056                   0.797548   \n",
       "5950               0.998937                   0.797365   \n",
       "6257               0.999027                   0.797449   \n",
       "1517               0.998378                   0.796688   \n",
       "\n",
       "      After-tax net Interest Rate  \\\n",
       "2829                     0.809326   \n",
       "1911                     0.809502   \n",
       "5950                     0.809269   \n",
       "6257                     0.809354   \n",
       "1517                     0.808731   \n",
       "\n",
       "      Non-industry income and expenditure/revenue  \\\n",
       "2829                                     0.303750   \n",
       "1911                                     0.303619   \n",
       "5950                                     0.303550   \n",
       "6257                                     0.303506   \n",
       "1517                                     0.303536   \n",
       "\n",
       "      Continuous interest rate (after tax)  ...  Net Income to Total Assets  \\\n",
       "2829                              0.781420  ...                    0.797230   \n",
       "1911                              0.781754  ...                    0.817849   \n",
       "5950                              0.781611  ...                    0.792243   \n",
       "6257                              0.781625  ...                    0.802114   \n",
       "1517                              0.780934  ...                    0.730177   \n",
       "\n",
       "      Total assets to GNP price  No-credit Interval  Gross Profit to Sales  \\\n",
       "2829                   0.024271            0.622684               0.599668   \n",
       "1911                   0.000545            0.625150               0.625218   \n",
       "5950                   0.000760            0.625029               0.597615   \n",
       "6257                   0.001682            0.623796               0.606391   \n",
       "1517                   0.000821            0.623790               0.571274   \n",
       "\n",
       "      Net Income to Stockholder's Equity  Liability to Equity  \\\n",
       "2829                            0.840182             0.283932   \n",
       "1911                            0.841178             0.275552   \n",
       "5950                            0.839814             0.276879   \n",
       "6257                            0.840385             0.276116   \n",
       "1517                            0.834077             0.281133   \n",
       "\n",
       "      Degree of Financial Leverage (DFL)  \\\n",
       "2829                            0.029567   \n",
       "1911                            0.026791   \n",
       "5950                            0.026200   \n",
       "6257                            0.026794   \n",
       "1517                            0.026745   \n",
       "\n",
       "      Interest Coverage Ratio (Interest expense to EBIT)  Net Income Flag  \\\n",
       "2829                                           0.568808                 1   \n",
       "1911                                           0.565158                 1   \n",
       "5950                                           0.558753                 1   \n",
       "6257                                           0.565174                 1   \n",
       "1517                                           0.564929                 1   \n",
       "\n",
       "      Equity to Liability  \n",
       "2829             0.020696  \n",
       "1911             0.121426  \n",
       "5950             0.054270  \n",
       "6257             0.077683  \n",
       "1517             0.025237  \n",
       "\n",
       "[5 rows x 95 columns]"
      ]
     },
     "execution_count": 57,
     "metadata": {},
     "output_type": "execute_result"
    }
   ],
   "source": [
    "Xdata_test.head()"
   ]
  },
  {
   "cell_type": "code",
   "execution_count": 58,
   "id": "bb4a3067-6915-4597-bc90-6d28aa08e851",
   "metadata": {},
   "outputs": [
    {
     "data": {
      "text/plain": [
       "array([ True,  True,  True,  True,  True,  True,  True,  True,  True,\n",
       "        True,  True,  True,  True,  True,  True,  True,  True,  True,\n",
       "        True,  True,  True,  True,  True,  True,  True,  True,  True,\n",
       "        True,  True,  True,  True,  True,  True,  True,  True,  True,\n",
       "        True,  True,  True,  True,  True,  True,  True,  True,  True,\n",
       "        True,  True,  True,  True,  True,  True,  True,  True,  True,\n",
       "        True,  True,  True,  True,  True,  True,  True,  True,  True,\n",
       "        True,  True,  True,  True,  True,  True,  True,  True,  True,\n",
       "        True,  True,  True,  True,  True,  True,  True,  True,  True,\n",
       "        True,  True,  True,  True,  True,  True,  True,  True,  True,\n",
       "        True,  True,  True,  True,  True])"
      ]
     },
     "execution_count": 58,
     "metadata": {},
     "output_type": "execute_result"
    }
   ],
   "source": [
    "Xdata_train.columns == Xdata_test.columns"
   ]
  },
  {
   "cell_type": "code",
   "execution_count": 59,
   "id": "0063bf7e-9f71-4bf4-b82b-4ee1d70a180c",
   "metadata": {},
   "outputs": [
    {
     "ename": "AttributeError",
     "evalue": "'LogisticRegression' object has no attribute 'converged_'",
     "output_type": "error",
     "traceback": [
      "\u001b[0;31m---------------------------------------------------------------------------\u001b[0m",
      "\u001b[0;31mAttributeError\u001b[0m                            Traceback (most recent call last)",
      "Cell \u001b[0;32mIn[59], line 4\u001b[0m\n\u001b[1;32m      1\u001b[0m LR_model \u001b[38;5;241m=\u001b[39m LogisticRegression(max_iter\u001b[38;5;241m=\u001b[39m\u001b[38;5;241m1000\u001b[39m)\n\u001b[1;32m      2\u001b[0m LR_model\u001b[38;5;241m.\u001b[39mfit(Xdata_train, ydata_train)\n\u001b[0;32m----> 4\u001b[0m \u001b[38;5;28mprint\u001b[39m(\u001b[38;5;124m\"\u001b[39m\u001b[38;5;124mConvergence status:\u001b[39m\u001b[38;5;124m\"\u001b[39m, LR_model\u001b[38;5;241m.\u001b[39mconverged_)\n",
      "\u001b[0;31mAttributeError\u001b[0m: 'LogisticRegression' object has no attribute 'converged_'"
     ]
    }
   ],
   "source": [
    "LR_model = LogisticRegression(max_iter=1000)\n",
    "LR_model.fit(Xdata_train, ydata_train)\n",
    "\n",
    "print(\"Convergence status:\", LR_model.converged_)"
   ]
  },
  {
   "cell_type": "code",
   "execution_count": 60,
   "id": "f24b51f6-0de5-4e1c-9d9f-96b4d0e01609",
   "metadata": {},
   "outputs": [
    {
     "name": "stdout",
     "output_type": "stream",
     "text": [
      "1.2.2\n"
     ]
    }
   ],
   "source": [
    "import sklearn\n",
    "print(sklearn.__version__)\n"
   ]
  },
  {
   "cell_type": "code",
   "execution_count": 61,
   "id": "96a31e64-628d-415e-83d0-219a3023fe8f",
   "metadata": {},
   "outputs": [
    {
     "data": {
      "text/plain": [
       "0        0\n",
       "1        0\n",
       "2        0\n",
       "3        0\n",
       "4        0\n",
       "        ..\n",
       "10551    1\n",
       "10552    1\n",
       "10553    1\n",
       "10554    1\n",
       "10555    1\n",
       "Name: Bankrupt?, Length: 10556, dtype: int64"
      ]
     },
     "execution_count": 61,
     "metadata": {},
     "output_type": "execute_result"
    }
   ],
   "source": [
    "ydata_train"
   ]
  },
  {
   "cell_type": "code",
   "execution_count": null,
   "id": "f87f2ab4-1d1a-40ee-90b4-aeac728db150",
   "metadata": {},
   "outputs": [],
   "source": []
  }
 ],
 "metadata": {
  "kernelspec": {
   "display_name": "Python 3 (ipykernel)",
   "language": "python",
   "name": "python3"
  },
  "language_info": {
   "codemirror_mode": {
    "name": "ipython",
    "version": 3
   },
   "file_extension": ".py",
   "mimetype": "text/x-python",
   "name": "python",
   "nbconvert_exporter": "python",
   "pygments_lexer": "ipython3",
   "version": "3.11.5"
  }
 },
 "nbformat": 4,
 "nbformat_minor": 5
}
